{
 "cells": [
  {
   "cell_type": "code",
   "execution_count": 1,
   "metadata": {
    "collapsed": true
   },
   "outputs": [],
   "source": [
    "import os"
   ]
  },
  {
   "cell_type": "code",
   "execution_count": 2,
   "metadata": {
    "collapsed": true
   },
   "outputs": [],
   "source": [
    "datafile = \"/home/ctroupin/Data/SeaDataCloud/atlantic2.dat\"\n",
    "outputfile = \"/home/ctroupin/Presentations/PresentationsLatex/20180122_Eudat_Porto/data/data_position_atlantic.dat\""
   ]
  },
  {
   "cell_type": "code",
   "execution_count": 3,
   "metadata": {
    "collapsed": true
   },
   "outputs": [],
   "source": [
    "with open(outputfile, 'w') as fout:\n",
    "    fout.write(\"var datapoints = [\\n\")\n",
    "    with open(datafile, 'r') as fin:\n",
    "        for lines in fin:\n",
    "            if float(lines.split()[0]) > 180.:\n",
    "                fout.write(\"[\" + lines.split()[1] + \", \" + str(float(lines.split()[0]) - 360.) + \"],\\n\")\n",
    "            else:\n",
    "                fout.write(\"[\" + lines.split()[1] + \", \" + lines.split()[0] + \"],\\n\")\n",
    "    fout.write(\"]\")"
   ]
  },
  {
   "cell_type": "code",
   "execution_count": null,
   "metadata": {
    "collapsed": true
   },
   "outputs": [],
   "source": []
  }
 ],
 "metadata": {
  "kernelspec": {
   "display_name": "Diva-python3.6",
   "language": "python",
   "name": "diva-python3.6"
  },
  "language_info": {
   "codemirror_mode": {
    "name": "ipython",
    "version": 3
   },
   "file_extension": ".py",
   "mimetype": "text/x-python",
   "name": "python",
   "nbconvert_exporter": "python",
   "pygments_lexer": "ipython3",
   "version": "3.6.0"
  }
 },
 "nbformat": 4,
 "nbformat_minor": 2
}
