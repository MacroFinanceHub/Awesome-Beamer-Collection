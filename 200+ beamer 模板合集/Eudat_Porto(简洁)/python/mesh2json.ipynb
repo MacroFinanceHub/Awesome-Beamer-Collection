{
 "cells": [
  {
   "cell_type": "code",
   "execution_count": 1,
   "metadata": {
    "collapsed": true
   },
   "outputs": [],
   "source": [
    "import pydiva2d\n",
    "import os\n",
    "import json"
   ]
  },
  {
   "cell_type": "code",
   "execution_count": 2,
   "metadata": {
    "collapsed": true
   },
   "outputs": [],
   "source": [
    "paramfile = \"/home/ctroupin/Projects/Altimetry-Interpolation/diva/param.par.meshL3\"\n",
    "coastfile = \"/home/ctroupin/Projects/Altimetry-Interpolation/diva/coast.cont\"\n",
    "outputdir = \"/home/ctroupin/Presentations/PresentationsLatex/20180122_Eudat_Porto/data/\""
   ]
  },
  {
   "cell_type": "markdown",
   "metadata": {},
   "source": [
    "## Contours"
   ]
  },
  {
   "cell_type": "code",
   "execution_count": 3,
   "metadata": {},
   "outputs": [
    {
     "data": {
      "text/plain": [
       "<pydiva2d.Diva2DContours at 0x7fe53805e4e0>"
      ]
     },
     "execution_count": 3,
     "metadata": {},
     "output_type": "execute_result"
    }
   ],
   "source": [
    "contour = pydiva2d.Diva2DContours()\n",
    "contour.read_from(coastfile)"
   ]
  },
  {
   "cell_type": "code",
   "execution_count": 4,
   "metadata": {
    "collapsed": true
   },
   "outputs": [],
   "source": [
    "contour.to_geojson(os.path.join(outputdir, \"medCoast.json\"))"
   ]
  },
  {
   "cell_type": "markdown",
   "metadata": {
    "collapsed": true
   },
   "source": [
    "## Parameters"
   ]
  },
  {
   "cell_type": "code",
   "execution_count": 5,
   "metadata": {},
   "outputs": [
    {
     "data": {
      "text/plain": [
       "<pydiva2d.Diva2DParameters at 0x7fe50c6b5588>"
      ]
     },
     "execution_count": 5,
     "metadata": {},
     "output_type": "execute_result"
    }
   ],
   "source": [
    "parameters = pydiva2d.Diva2DParameters()\n",
    "parameters.read_from(paramfile)"
   ]
  },
  {
   "cell_type": "code",
   "execution_count": 6,
   "metadata": {},
   "outputs": [
    {
     "name": "stdout",
     "output_type": "stream",
     "text": [
      "Correlation length: 3.0\n",
      "icoordchange: 2\n",
      "ispec: 1\n",
      "ireg: 2\n",
      "Domain: x-axis: from -8.4375 to 36.5 with 720 steps of 0.0625\n",
      "Domain: y-axis: from 30.0625 to 45.75 with 252 steps of 0.0625\n",
      "Exclusion value: -99.0\n",
      "Signal-to-noise ratio: 1.0\n",
      "Variance of the background field: 0.0\n"
     ]
    }
   ],
   "source": [
    "parameters.describe()"
   ]
  },
  {
   "cell_type": "markdown",
   "metadata": {},
   "source": [
    "## Finite-element mesh"
   ]
  },
  {
   "cell_type": "code",
   "execution_count": 7,
   "metadata": {
    "collapsed": true
   },
   "outputs": [],
   "source": [
    "mesh = pydiva2d.Diva2DMesh()"
   ]
  },
  {
   "cell_type": "code",
   "execution_count": 8,
   "metadata": {},
   "outputs": [
    {
     "data": {
      "text/plain": [
       "<pydiva2d.Diva2DMesh at 0x7fe538279b38>"
      ]
     },
     "execution_count": 8,
     "metadata": {},
     "output_type": "execute_result"
    }
   ],
   "source": [
    "mesh.make(divadir=\"/home/ctroupin/Software/DIVA/DIVA-diva-4.7.1/\", \n",
    "          contourfile=coastfile, \n",
    "          paramfile=paramfile)"
   ]
  },
  {
   "cell_type": "code",
   "execution_count": 9,
   "metadata": {},
   "outputs": [
    {
     "name": "stdout",
     "output_type": "stream",
     "text": [
      "Number of nodes: 4636\n",
      "Number of interfaces: 10089\n",
      "Number of elements: 5360\n"
     ]
    }
   ],
   "source": [
    "mesh.describe()"
   ]
  },
  {
   "cell_type": "code",
   "execution_count": 10,
   "metadata": {
    "collapsed": true
   },
   "outputs": [],
   "source": [
    "mesh.to_geojson(os.path.join(outputdir, \"medsea_mesh.js\"), varname=\"medmesh\")"
   ]
  },
  {
   "cell_type": "markdown",
   "metadata": {},
   "source": [
    "## Results"
   ]
  },
  {
   "cell_type": "code",
   "execution_count": 11,
   "metadata": {
    "collapsed": true
   },
   "outputs": [],
   "source": [
    "field = pydiva2d.Diva2DResults()"
   ]
  },
  {
   "cell_type": "code",
   "execution_count": null,
   "metadata": {
    "collapsed": true
   },
   "outputs": [],
   "source": [
    "field."
   ]
  }
 ],
 "metadata": {
  "kernelspec": {
   "display_name": "Diva-python3.6",
   "language": "python",
   "name": "diva-python3.6"
  },
  "language_info": {
   "codemirror_mode": {
    "name": "ipython",
    "version": 3
   },
   "file_extension": ".py",
   "mimetype": "text/x-python",
   "name": "python",
   "nbconvert_exporter": "python",
   "pygments_lexer": "ipython3",
   "version": "3.6.0"
  }
 },
 "nbformat": 4,
 "nbformat_minor": 2
}
