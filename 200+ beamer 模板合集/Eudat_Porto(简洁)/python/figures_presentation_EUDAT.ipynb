{
 "cells": [
  {
   "cell_type": "code",
   "execution_count": 80,
   "metadata": {
    "collapsed": true
   },
   "outputs": [],
   "source": [
    "import os\n",
    "import numpy as np\n",
    "import netCDF4\n",
    "import matplotlib.pyplot as plt\n",
    "from mpl_toolkits.basemap import Basemap"
   ]
  },
  {
   "cell_type": "code",
   "execution_count": 81,
   "metadata": {
    "collapsed": true
   },
   "outputs": [],
   "source": [
    "figdir = \"../figures/\""
   ]
  },
  {
   "cell_type": "code",
   "execution_count": 82,
   "metadata": {
    "collapsed": true
   },
   "outputs": [],
   "source": [
    "coordinates = (-15, 15, 30, 45)\n",
    "porto = (-9, 41, 16)\n",
    "djerba = (12, 36, 21)\n",
    "midpoint = (.5*(porto[0] + djerba[0]), .5*(porto[1] + djerba[1]))"
   ]
  },
  {
   "cell_type": "code",
   "execution_count": 66,
   "metadata": {},
   "outputs": [],
   "source": [
    "m = Basemap(projection='merc',\n",
    "            llcrnrlon=coordinates[0], llcrnrlat=coordinates[2],\n",
    "            urcrnrlon=coordinates[1], urcrnrlat=coordinates[3],\n",
    "            lat_ts=0.5 * (coordinates[2] + coordinates[3]), resolution='f')"
   ]
  },
  {
   "cell_type": "code",
   "execution_count": 88,
   "metadata": {},
   "outputs": [
    {
     "name": "stderr",
     "output_type": "stream",
     "text": [
      "/home/ctroupin/Software/PythonEnvs/Diva-python3.6/lib/python3.6/site-packages/mpl_toolkits/basemap/__init__.py:3296: MatplotlibDeprecationWarning: The ishold function was deprecated in version 2.0.\n",
      "  b = ax.ishold()\n",
      "/home/ctroupin/Software/PythonEnvs/Diva-python3.6/lib/python3.6/site-packages/mpl_toolkits/basemap/__init__.py:3305: MatplotlibDeprecationWarning: axes.hold is deprecated.\n",
      "    See the API Changes document (http://matplotlib.org/api/api_changes.html)\n",
      "    for more details.\n",
      "  ax.hold(b)\n",
      "/home/ctroupin/Software/PythonEnvs/Diva-python3.6/lib/python3.6/site-packages/mpl_toolkits/basemap/__init__.py:3260: MatplotlibDeprecationWarning: The ishold function was deprecated in version 2.0.\n",
      "  b = ax.ishold()\n",
      "/home/ctroupin/Software/PythonEnvs/Diva-python3.6/lib/python3.6/site-packages/mpl_toolkits/basemap/__init__.py:3269: MatplotlibDeprecationWarning: axes.hold is deprecated.\n",
      "    See the API Changes document (http://matplotlib.org/api/api_changes.html)\n",
      "    for more details.\n",
      "  ax.hold(b)\n",
      "/home/ctroupin/Software/PythonEnvs/Diva-python3.6/lib/python3.6/site-packages/matplotlib/font_manager.py:1297: UserWarning: findfont: Font family ['times'] not found. Falling back to DejaVu Sans\n",
      "  (prop.get_family(), self.defaultFamily[fontext]))\n"
     ]
    }
   ],
   "source": [
    "plt.figure(figsize=(8, 8))\n",
    "ax = plt.subplot(111)\n",
    "m.ax = ax\n",
    "#m.drawmeridians(np.arange(coordinates[0], coordinates[1], 3), labels=(0, 0, 1, 0))\n",
    "#m.drawparallels(np.arange(coordinates[2], coordinates[3], 3), labels=(1, 0, 1, 0))\n",
    "m.drawcoastlines(linewidth=.25)\n",
    "m.bluemarble(scale=2.)\n",
    "\n",
    "i = 1\n",
    "figname = os.path.join(figdir, \"interp2points_\" + str(i).zfill(2))\n",
    "plt.savefig(figname, dpi=300, bbox_inches='tight')\n",
    "i += 1\n",
    "\n",
    "# Add Porto temperature\n",
    "xx, yy = m(porto[0], porto[1])\n",
    "plt.text(xx, yy, str(porto[2]), color=\"w\", fontsize=16, zorder=3, ha='center', va='center', \n",
    "         fontname=\"times new roman\", fontweight='bold')\n",
    "m.plot(porto[0], porto[1], marker=\"o\", markersize=22, color=\"b\", latlon=True, zorder=2)\n",
    "\n",
    "figname = os.path.join(figdir, \"interp2points_\" + str(i).zfill(2))\n",
    "plt.savefig(figname, dpi=300, bbox_inches='tight')\n",
    "i += 1\n",
    "\n",
    "# Add Djerba\n",
    "xx, yy = m(djerba[0], djerba[1])\n",
    "plt.text(xx, yy, str(djerba[2]), color=\"w\", fontsize=16, zorder=3, ha='center', va='center', \n",
    "         fontname=\"times new roman\", fontweight='bold')\n",
    "m.plot(djerba[0], djerba[1], marker=\"o\", markersize=22, color=\"r\", latlon=True)\n",
    "\n",
    "figname = os.path.join(figdir, \"interp2points_\" + str(i).zfill(2))\n",
    "plt.savefig(figname, dpi=300, bbox_inches='tight')\n",
    "i += 1\n",
    "\n",
    "# Mid point\n",
    "xx, yy = m(midpoint[0], midpoint[1])\n",
    "plt.text(xx, yy, \"?\", color=\"w\", fontsize=22, zorder=3, ha='center', va='center', \n",
    "         fontname=\"\"times new roman, fontweight='bold')\n",
    "\n",
    "figname = os.path.join(figdir, \"interp2points_\" + str(i).zfill(2))\n",
    "plt.savefig(figname, dpi=300, bbox_inches='tight')\n",
    "i += 1\n",
    "\n",
    "\n",
    "# Below mid point\n",
    "xx, yy = m(midpoint[0], midpoint[1]-1.5)\n",
    "plt.text(xx, yy, r\"$\\frac{16 + 21}{2}$\", color=\"w\", fontsize=22, zorder=3, ha='center', va='center', \n",
    "         fontname=\"times new roman\", fontweight='bold')\n",
    "\n",
    "figname = os.path.join(figdir, \"interp2points_\" + str(i).zfill(2))\n",
    "plt.savefig(figname, dpi=300, bbox_inches='tight')\n",
    "i += 1\n",
    "\n",
    "plt.close()"
   ]
  },
  {
   "cell_type": "code",
   "execution_count": 40,
   "metadata": {},
   "outputs": [],
   "source": [
    "plt.text?"
   ]
  },
  {
   "cell_type": "code",
   "execution_count": 75,
   "metadata": {
    "collapsed": true
   },
   "outputs": [],
   "source": [
    "m.warpimage?"
   ]
  },
  {
   "cell_type": "code",
   "execution_count": null,
   "metadata": {
    "collapsed": true
   },
   "outputs": [],
   "source": []
  }
 ],
 "metadata": {
  "kernelspec": {
   "display_name": "Diva-python3.6",
   "language": "python",
   "name": "diva-python3.6"
  },
  "language_info": {
   "codemirror_mode": {
    "name": "ipython",
    "version": 3
   },
   "file_extension": ".py",
   "mimetype": "text/x-python",
   "name": "python",
   "nbconvert_exporter": "python",
   "pygments_lexer": "ipython3",
   "version": "3.6.0"
  }
 },
 "nbformat": 4,
 "nbformat_minor": 2
}
